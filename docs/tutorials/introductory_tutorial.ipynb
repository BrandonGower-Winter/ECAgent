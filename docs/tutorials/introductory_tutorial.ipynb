{
 "cells": [
  {
   "cell_type": "markdown",
   "source": [
    "# Introductory tutorial\n",
    "Welcome to the ECAgent Introductory tutorial. We will be taking a look at some fundamental ideas that make-up the ECAgent\n",
    "framework. To get things started, make sure that you are at least a little familiar with the core concepts of\n",
    "the Entity-Component-System (ECS) architectural pattern. If you are not comfortable\n",
    "with ECS, see the [Wikipedia](https://en.wikipedia.org/wiki/Entity_component_system) page for more information.\n",
    "\n",
    "## Getting Started:\n",
    "\n",
    "To start off with, you should make sure you have ECAgent installed:\n",
    "```\n",
    "pip install ECAgent\n",
    "```\n",
    "\n",
    "Now that we have ECAgent installed, we can proceed to create our Agent-based Model (ABM).\n",
    "We will be recreating a simple model inspired by [[Dragulescu2002]](http://arxiv.org/abs/cond-mat/0211175).\n",
    "\n",
    "Our model will follow this simple procedure:\n",
    "\n",
    "* Agents will start the simulation with 1 coin each.\n",
    "* At each iteration, each agent will give 1 coin to another, randomly selected,\n",
    "agent.\n",
    "* After N iterations, our model will print out the wealth distribution of our agent\n",
    "population.\n",
    "\n",
    "Let's get started!\n",
    "\n",
    "The first thing we want to do is open up the Tutorial.py file, located in the /src/ directory. You should see a completely\n",
    "blank file.\n",
    "\n",
    "Let's kick things off by first importing the `ECAgent` package like so:"
   ],
   "metadata": {
    "collapsed": false
   }
  },
  {
   "cell_type": "code",
   "execution_count": null,
   "outputs": [],
   "source": [
    "from ECAgent.Core import *"
   ],
   "metadata": {
    "collapsed": false,
    "pycharm": {
     "name": "#%%\n"
    }
   }
  },
  {
   "cell_type": "markdown",
   "source": [
    "This will ensure that we have all the necessary classes needed to\n",
    "make our wealth distribution model.\n",
    "\n",
    "Now that we have that out of the way, lets talk about the five core classes\n",
    "of `ECAgent`. They are:\n",
    "\n",
    "* Model\n",
    "* Environment\n",
    "* System\n",
    "* Agent\n",
    "* Component\n",
    "\n",
    "You will need to understand how all of these classes work in order to create ABMs\n",
    "in `ECAgent`. If you are familiar with ECS, you should recognize the `System` and `Component` classes\n",
    "and, if you are familiar with ABMs, you are most likely familiar with the `Model`, `Environment` and `Agent`\n",
    "classes.\n",
    "\n",
    "Let's start with the simplest class, the `Component` class. In `ECAgent`, and ECS\n",
    "in general, Components are plain-old-data (POD) types. This means that they only store information,\n",
    "in variables, and have little-to-no functionality. In our Model we would create\n",
    "a  `MoneyComponent` like so:"
   ],
   "metadata": {
    "collapsed": false,
    "pycharm": {
     "name": "#%% md\n"
    }
   }
  },
  {
   "cell_type": "code",
   "execution_count": null,
   "outputs": [],
   "source": [
    "class MoneyComponent(Component):\n",
    "    def __init__(self, agent : Agent, model : Model):\n",
    "        super().__init__(agent, model)\n",
    "        self.wealth = 1  # Wealth Property (Default value of 1)"
   ],
   "metadata": {
    "collapsed": false,
    "pycharm": {
     "name": "#%%\n"
    }
   }
  },
  {
   "cell_type": "markdown",
   "source": [
    "As you can see, we inherit from the `Component` base class and define a constructor.\n",
    "The `Component` class takes two arguments: The agent that the component belongs to\n",
    "and the simulation model. We simply add those parameters to our `MoneyComponent` constructor\n",
    "so that we can pass along that information when we initialize our `MoneyComponent` objects.\n",
    "We also add a `wealth` parameter and set it to `1`. This follows our first rule in that all\n",
    "agents will start with `1` coin.\n",
    "\n",
    "You'll notice that the `MoneyComponent` class is incredibly simple. This is intentional.\n",
    "In ECS, components should rarely be complex. It is ok to add some functionality to calculate\n",
    "composite or auxiliary properties but, as a general rule, you should keep your components\n",
    "as simple as possible.\n",
    "\n",
    "Now lets move onto our next class, the `Agent` class. You probably noticed from\n",
    "the class definitions that we seem to be missing the 'Entity' portion of\n",
    "our Entity-Component-System. In `ECAgent`, the `Agent` class is the Entity class.\n",
    "It is responsible for keeping track of the components attached to itself. It may\n",
    "even add/remove components from itself should the situation arise. For our\n",
    "ABM, our `MoneyAgent` class should look something like this:"
   ],
   "metadata": {
    "collapsed": false
   }
  },
  {
   "cell_type": "code",
   "execution_count": null,
   "outputs": [],
   "source": [
    "class MoneyAgent(Agent):\n",
    "    def __init__(self, id: str, model : Model):\n",
    "        super().__init__(id, model)\n",
    "        self.add_component(MoneyComponent(self, self.model))"
   ],
   "metadata": {
    "collapsed": false,
    "pycharm": {
     "name": "#%%\n"
    }
   }
  },
  {
   "cell_type": "markdown",
   "source": [
    "Again, this isn't a very complex class, but it illustrates all you need to know\n",
    "about the `Agent` class. Once again, our base class requires that we pass it our\n",
    "model. We just pass this off to our `MoneyAgent` constructor function because we\n",
    "will supply the model when we create the agents for the first time. You will also\n",
    "notice the `id` property. This is a very important property in that it uniquely identifies\n",
    "the agent in our model. If you do not supply each agent with a unique id, the final program\n",
    "will throw an Exception.\n",
    "\n",
    "Now that we have the Agent(Entity) and Component classes out of the way, lets create\n",
    "our `System` class. In ECS, Systems are responsible for modifying the values of components.\n",
    "They can also trigger events that trigger other systems and so on and so forth. ECAgent\n",
    "does not have an event system by default. ECAgent executes `System` procedures through a\n",
    "`SystemManager`. The SystemManager is responsible for scheduling when events\n",
    "run and when they do not. It is possible to write your own `SystemManager` but\n",
    "that is beyond the scope of this tutorial. We will just use the default one.\n",
    "\n",
    "As you'll remember from our brief model description, at every iteration of\n",
    "our model, an agent, if possible, must give away 1 coin to another random agent.\n",
    "Knowing this, we can create our `MoneySystem` like so:"
   ],
   "metadata": {
    "collapsed": false
   }
  },
  {
   "cell_type": "code",
   "execution_count": null,
   "outputs": [],
   "source": [
    "class MoneySystem(System):\n",
    "    def __init__(self, model : Model):\n",
    "        super().__init__(\"MONEY\", model)\n",
    "\n",
    "    def execute(self):\n",
    "        components = self.model.systems.get_components(MoneyComponent)\n",
    "\n",
    "        for component in components:  # Iterate over all MoneyComponents\n",
    "            if component.wealth == 0:\n",
    "                pass\n",
    "            else:\n",
    "                # Get other agent\n",
    "                other_agent = self.model.environment.get_random_agent()\n",
    "                # Transfer Wealth\n",
    "                other_agent.get_component(MoneyComponent).wealth += 1\n",
    "                component.wealth -= 1"
   ],
   "metadata": {
    "collapsed": false,
    "pycharm": {
     "name": "#%%\n"
    }
   }
  },
  {
   "cell_type": "markdown",
   "source": [
    "This will be the most complicated part of our model. As is the norm, our `System` base class\n",
    "requires a that we supply it with the model it belongs too. Like before, we will just\n",
    "pass this in when we create the system. You will also see one other value being passed in, `\"MONEY\"`.\n",
    "This is the system's id. Just like the Agents, systems also require unique identifiers.\n",
    "The id is used by the `SystemManager` and some other systems in `ECAgent`.\n",
    "\n",
    "If you look at the docs, you'll notice that the `System` base class initialization method has a\n",
    "number of optional parameters. These parameters control how frequently and in what order your\n",
    "systems should run. It is out of scope for this tutorial but just know that our `MoneySystem`\n",
    "will run once at every iteration of our model.\n",
    "\n",
    "Custom System classes also require that you overload the `execute()` function.\n",
    "This function is called by the `SystemManager` everytime our model needs to compute\n",
    "at a given timestep. The execute function is where your ABM logic goes. In our case,\n",
    "our `MoneySystem` needs to iterate through each `MoneyComponent` (which an agent has)\n",
    "and give 1 coin to a random agent if possible. We can get a list of all `MoneyComponent` objects\n",
    "in our model using the `SystemManager.get_components()` method supplying it\n",
    "with the name of our `MoneyComponent` class as input. We then iterate through\n",
    "each component and, if the agent has money, we give 1 coin to another random\n",
    "agent. We can use the `Environment.get_random_agent()` method to get a random agent from our environment,\n",
    "and then we use the `Agent.get_component()` method to get that agent's `MoneyComponent`.\n",
    "\n",
    "For our simple model, using `get_random_agent()` and `get_component()` is fine because\n",
    "we will only ever have one type of agent in our model, and we know for certain that each agent will have a\n",
    "`MoneyComponent`. If you are working with multiple types of Agents with varying\n",
    "components, you should first make sure the agent has the component you are looking\n",
    "for. This can be done using the `Agent.has_component()` function which returns `True`\n",
    "if the agent has the desired component(s). You can also supply the `Environment.get_random_agent()` function with a\n",
    "filter that will automatically exclude any agents that don't contain all the components specified by the filter. For more\n",
    "information on this, check out the docs.\n",
    "\n",
    "## Putting it all together:\n",
    "\n",
    "Now that our custom system is done, we can start to put everything together.\n",
    "\n",
    "Environments are a very important in ABMs. They are responsible for managing the\n",
    "space the agents occupy. The environment may be dimensionless, 2D, 3D, continuous\n",
    "or even discrete. `ECAgent` allows you to customize your environment in a similar fashion to\n",
    "how you can customize systems, agents and components. However, because this is an\n",
    "introductory tutorial, custom environments will not be covered (They are covered\n",
    "in this tutorial here(**TODO**)). This is ok for our simple model as we just need an\n",
    "environment that contains some kind of reference to all agents. By default,\n",
    "and if no `Environment` is supplied to the `Model` upon initialization, the model\n",
    "will create an empty `Environment()` object. This environment simply holds\n",
    "a list of the agents currently occupying it and is actually the base class for\n",
    "the complex environments that we will introduce in further tutorials.\n",
    "\n",
    "As a result of this functionality, you will not see an `Environment()` object being\n",
    "instantiated explicitly, just be aware of the fact that it is.\n",
    "\n",
    "Now we move onto our custom model class. It looks like this:"
   ],
   "metadata": {
    "collapsed": false
   }
  },
  {
   "cell_type": "code",
   "execution_count": null,
   "outputs": [],
   "source": [
    "class MoneyModel(Model):\n",
    "    def __init__(self, num_agents : int):\n",
    "        super().__init__(seed=44)\n",
    "\n",
    "        self.systems.add_system(MoneySystem(self))  # Add Money System\n",
    "\n",
    "        # Add Money Agents\n",
    "        for i in range(0, num_agents):\n",
    "            self.environment.add_agent(MoneyAgent('a' + str(i), self))\n",
    "\n",
    "    def run(self):  # Method created to run our model\n",
    "        while self.systems.timestep < 10:\n",
    "            self.systems.execute_systems()  # Executes all systems"
   ],
   "metadata": {
    "collapsed": false,
    "pycharm": {
     "name": "#%%\n"
    }
   }
  },
  {
   "cell_type": "markdown",
   "source": [
    "As you can see, we've created a `MoneyModel` class that inherits from the `Model` base class.\n",
    "The model base class has two optional parameters: The `environment` as mentioned above\n",
    "and the `seed` which have set to `44` in order for us to compare results. The seed\n",
    "is used to construct a pseudo-random number generator that we can use whenever we\n",
    "need to add a little stochasticity to our model. We've actually already used it indirectly\n",
    "when we called `get_random_agent()` in our `MoneySystem`. By setting the seed of the random\n",
    "number generator, we will get the same results every time. This is essential if\n",
    "you want to make your work reproducible. You can use the model's random number generator\n",
    "just like you would use python's `random`. It works in exactly the same way.\n",
    "\n",
    "After we call the base constructor, we add our `MoneySystem` to the `SystemManger`\n",
    "using `SystemManager.add_system()`. This will automatically register our system with\n",
    "the system manager. Next we add the agents. You'll notice that our `MoneyModel` can\n",
    "have a variable number of agents (num_agents). We simply create that many agents\n",
    "and store them in the environment using `Environment.add_agent()`. You'll also notice\n",
    "that we are ensuring that each agent has a unique iq by using the value of `i`. This is\n",
    "a really simple yet effective method to ensure each agent is uniquely identifiable.\n",
    "\n",
    "We then define a `run()` method that we can call from outside the model class. This\n",
    "method runs the model for 10 iterations. To do this we use the timestep property found\n",
    "in the `SystemManager` object.\n",
    "\n",
    "Lastly, we call the `SystemManager.execute_systems()` method. This method is responsible\n",
    "for calling the `execute()` method we defined for our `MoneySystem` class. At the\n",
    "end of the `execute_systems()` method, the `SystemManager` will increase the `timestep` counter by `1`.\n",
    "\n",
    "That's it!!! Our model is finally complete. All we now have to do is run it.\n",
    "\n",
    "## Running the Model:\n",
    "\n",
    "To run our model, we can use the following bit of code:"
   ],
   "metadata": {
    "collapsed": false
   }
  },
  {
   "cell_type": "code",
   "execution_count": null,
   "outputs": [],
   "source": [
    "model = MoneyModel(10)  # Create a MoneyModel with 10 agents\n",
    "model.run()  # Run model for 10 iterations\n",
    "print ([x.wealth for x in model.systems.get_components(MoneyComponent)])  # Print Wealth Distribution"
   ],
   "metadata": {
    "collapsed": false,
    "pycharm": {
     "name": "#%%\n"
    }
   }
  },
  {
   "cell_type": "markdown",
   "source": [
    "This code just creates a `MoneyModel` object (with 10 agents), runs the model using\n",
    "`model.run()` and then prints out the wealth distribution of the agents using\n",
    "a bit of list comprehension.\n",
    "\n",
    "You should get the following output:\n",
    "\n",
    "`[3, 0, 0, 1, 1, 1, 0, 1, 1, 2]`\n",
    "\n",
    "This is the wealth of all the agents by id. As you can tell Agent 0 is very\n",
    "lucky and seems to have come out on top.\n",
    "\n",
    "If you did not get this result, make sure that you set the `seed` of the model to `44`.\n",
    "\n",
    "## Conclusion:\n",
    "You have successfully created your first ABM using `ECAgent`. As you can hopefully tell,\n",
    "`ECAgent` is incredibly flexible and can be extended easily. If you are still interested in learning\n",
    "more about `ECAgent`, take a look at some other, more complicated, tutorials and,\n",
    "if you have any questions, please feel free to email or message one of the devs, and they will\n",
    "be more than happy to assist you."
   ],
   "metadata": {
    "collapsed": false,
    "pycharm": {
     "name": "#%% md\n"
    }
   }
  }
 ],
 "metadata": {
  "kernelspec": {
   "display_name": "Python 3",
   "language": "python",
   "name": "python3"
  },
  "language_info": {
   "codemirror_mode": {
    "name": "ipython",
    "version": 2
   },
   "file_extension": ".py",
   "mimetype": "text/x-python",
   "name": "python",
   "nbconvert_exporter": "python",
   "pygments_lexer": "ipython2",
   "version": "2.7.6"
  }
 },
 "nbformat": 4,
 "nbformat_minor": 0
}